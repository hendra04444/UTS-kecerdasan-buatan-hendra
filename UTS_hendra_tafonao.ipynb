{
  "cells": [
    {
      "cell_type": "markdown",
      "metadata": {
        "id": "view-in-github",
        "colab_type": "text"
      },
      "source": [
        "<a href=\"https://colab.research.google.com/github/hendra04444/UTS-kecerdasan-buatan-hendra/blob/main/UTS_hendra_tafonao.ipynb\" target=\"_parent\"><img src=\"https://colab.research.google.com/assets/colab-badge.svg\" alt=\"Open In Colab\"/></a>"
      ]
    },
    {
      "cell_type": "code",
      "execution_count": null,
      "metadata": {
        "id": "iHhnecy5tIXf"
      },
      "outputs": [],
      "source": [
        "# Data\n",
        "\n",
        "company_detail_list = [\n",
        "      {\n",
        "          'name': 'Company 1',\n",
        "          'domain': 'Retail',\n",
        "          'country': 'United States'\n",
        "      },\n",
        "      {\n",
        "          'name': 'Company 2',\n",
        "          'domain': 'Technology',\n",
        "          'country': 'United Kingdom'\n",
        "      },\n",
        "      {\n",
        "          'name': 'Company 3',\n",
        "          'domain': 'Healthcare',\n",
        "          'country': 'United States'\n",
        "      }\n",
        "  ]\n",
        "\n",
        "employee_detail_list = [\n",
        "     {\n",
        "          'name': 'EMP-0001',\n",
        "          'first_name': 'John',\n",
        "          'last_name': 'Doe',\n",
        "          'full_name': 'John Doe',\n",
        "          'company': 'Company 1',\n",
        "          'nationality': 'Australia'\n",
        "      },\n",
        "      {\n",
        "          'name': 'EMP-0002',\n",
        "          'first_name': 'Tom',\n",
        "          'last_name': 'Smith',\n",
        "          'full_name': 'Tom Smith',\n",
        "          'company': 'Company 2',\n",
        "          'nationality': 'United States'\n",
        "      },\n",
        "      {\n",
        "          'name': 'EMP-0003',\n",
        "          'first_name': 'Andrew',\n",
        "          'last_name': 'Sebastian',\n",
        "          'full_name': 'Andrew Sebastian',\n",
        "          'company': 'Company 3',\n",
        "          'nationality': 'United States'\n",
        "      },\n",
        "      {\n",
        "          'name': 'EMP-0005',\n",
        "          'first_name': 'Ying Han',\n",
        "          'last_name': 'Tan',\n",
        "          'full_name': 'Ying Han Tan',\n",
        "          'company': 'Company 1',\n",
        "          'nationality': 'Australia'\n",
        "      },\n",
        "      {\n",
        "          'name': 'EMP-0015',\n",
        "          'first_name': 'Kenneth',\n",
        "          'last_name': 'Ng',\n",
        "          'full_name': 'Kenneth Ng',\n",
        "          'company': 'Company 3',\n",
        "          'nationality': 'United States'\n",
        "      },\n",
        "      {\n",
        "          'name': 'EMP-0018',\n",
        "          'first_name': 'Rubby',\n",
        "          'last_name': 'Lee',\n",
        "          'full_name': 'Rubby Lee',\n",
        "          'company': 'Company 2',\n",
        "          'nationality': 'Hong Kong'\n",
        "      },\n",
        "     {\n",
        "          'name': 'EMP-0017',\n",
        "          'first_name': 'Robert',\n",
        "          'last_name': 'White',\n",
        "          'full_name': 'Robert White',\n",
        "          'company': 'Company 1',\n",
        "          'nationality': 'United Kingdom'\n",
        "      }\n",
        "  ]"
      ]
    },
    {
      "cell_type": "code",
      "execution_count": null,
      "metadata": {
        "id": "7VlifDWztIXk"
      },
      "outputs": [],
      "source": [
        "#Task 1 Mengurutkan dari belakang\n",
        "\n",
        "company_names = sorted([company['name'] for company in company_detail_list], reverse=True)\n",
        "print(\"Mengurutkan terbalik :\", company_names)"
      ]
    },
    {
      "cell_type": "code",
      "execution_count": null,
      "metadata": {
        "id": "em6CdlnstIXk"
      },
      "outputs": [],
      "source": [
        "#Task 2 mencetak setiap nilai domain dari domain\n",
        "\n",
        "def print_company_domains(company_detail_list):\n",
        "    for company in company_detail_list:\n",
        "        print(f\"{company['name']}: {company['domain']} ({company['country']})\")\n",
        "print_company_domains(company_detail_list)"
      ]
    },
    {
      "cell_type": "code",
      "execution_count": null,
      "metadata": {
        "id": "ofcI3a0TtIXl"
      },
      "outputs": [],
      "source": [
        "#Task 3 Mendaftarkan semua employes yang bekerja di setiap Company berdasarkan domain.\n",
        "\n",
        "employees_by_domain = {}\n",
        "for company in company_detail_list:\n",
        "    domain = company['domain']\n",
        "    company_name = company['name']\n",
        "\n",
        "    employees_in_domain = [\n",
        "        employee['full_name']\n",
        "        for employee in employee_detail_list\n",
        "        if employee['company'] == company_name\n",
        "    ]\n",
        "\n",
        "    employees_by_domain[domain] = employees_in_domain\n",
        "\n",
        "print(\"Employees by Domain:\")\n",
        "for domain, employees in employees_by_domain.items():\n",
        "    print(f\"{domain}: {employees}\")"
      ]
    },
    {
      "cell_type": "code",
      "execution_count": null,
      "metadata": {
        "id": "zJQp1qcXtIXl"
      },
      "outputs": [],
      "source": [
        "#Task 4  Membuat fungsi yang mengembalikan employes dengan country company tersebut\n",
        "\n",
        "def employees_with_company_country():\n",
        "    result = []\n",
        "    for employee in employee_detail_list:\n",
        "        company_name = employee['company']\n",
        "        company_country = next(\n",
        "            (company['country'] for company in company_detail_list if company['name'] == company_name), None\n",
        "        )\n",
        "        if company_country:\n",
        "            result.append({\n",
        "                'employee_name': employee['full_name'],\n",
        "                'company': company_name,\n",
        "                'country': company_country\n",
        "            })\n",
        "    return result\n",
        "\n",
        "print(\"Employees with their Company's Country:\")\n",
        "for item in employees_with_company_country():\n",
        "    print(item)\n"
      ]
    },
    {
      "cell_type": "code",
      "execution_count": null,
      "metadata": {
        "id": "tmA6mBnZtIXm"
      },
      "outputs": [],
      "source": [
        "#Task 5 Membuat fungsi yang mengembalikan data company beserta jumlah kewarganegaraan employes yang bekerja di company tersebut.\n",
        "\n",
        "from collections import Counter\n",
        "def companies_with_nationality_count():\n",
        "    result = []\n",
        "    for company in company_detail_list:\n",
        "        company_name = company['name']\n",
        "\n",
        "        # Collect nationalities of employees in this company\n",
        "        nationalities = [\n",
        "            employee['nationality']\n",
        "            for employee in employee_detail_list\n",
        "            if employee['company'] == company_name\n",
        "        ]\n",
        "\n",
        "        # Count occurrences of each nationality\n",
        "        nationality_count = dict(Counter(nationalities))\n",
        "\n",
        "        result.append({\n",
        "            'company_name': company_name,\n",
        "            'nationality_count': nationality_count\n",
        "        })\n",
        "    return result\n",
        "\n",
        "print(\"Companies with Number of Employee Nationalities:\")\n",
        "for item in companies_with_nationality_count():\n",
        "    print(item)\n"
      ]
    }
  ],
  "metadata": {
    "kernelspec": {
      "display_name": "Python 3",
      "language": "python",
      "name": "python3"
    },
    "language_info": {
      "codemirror_mode": {
        "name": "ipython",
        "version": 3
      },
      "file_extension": ".py",
      "mimetype": "text/x-python",
      "name": "python",
      "nbconvert_exporter": "python",
      "pygments_lexer": "ipython3",
      "version": "3.13.0"
    },
    "colab": {
      "provenance": [],
      "include_colab_link": true
    }
  },
  "nbformat": 4,
  "nbformat_minor": 0
}